{
 "cells": [
  {
   "cell_type": "code",
   "execution_count": 3,
   "metadata": {
    "collapsed": true
   },
   "outputs": [],
   "source": [
    "import csv"
   ]
  },
  {
   "cell_type": "code",
   "execution_count": 8,
   "metadata": {
    "collapsed": true
   },
   "outputs": [],
   "source": [
    "file = \"cities.csv\""
   ]
  },
  {
   "cell_type": "code",
   "execution_count": 25,
   "metadata": {
    "collapsed": true
   },
   "outputs": [],
   "source": [
    "fields = [\"name\", \"timeZone_label\", \"utcOffset\", \"homepage\", \"governmentType_label\",\n",
    "          \"isPartOf_label\", \"areaCode\", \"populationTotal\", \"elevation\",\n",
    "          \"maximumElevation\", \"minimumElevation\", \"populationDensity\",\n",
    "          \"wgs84_pos#lat\", \"wgs84_pos#long\", \"areaLand\", \"areaMetro\", \"areaUrban\"]"
   ]
  },
  {
   "cell_type": "code",
   "execution_count": 30,
   "metadata": {
    "collapsed": true
   },
   "outputs": [],
   "source": [
    "def get_type(value):\n",
    "    fieldtype = type(int())\n",
    "    return fieldtype"
   ]
  },
  {
   "cell_type": "code",
   "execution_count": 31,
   "metadata": {},
   "outputs": [],
   "source": [
    "fieldtypes = {}\n",
    "for field in fields:\n",
    "    fieldtypes[field] = set([])\n",
    "with open(file, \"r\") as f:\n",
    "    reader = csv.DictReader(f)\n",
    "    header = reader.fieldnames\n",
    "    \n",
    "    for row in reader:\n",
    "        if row['URI'].find(\"dbpedia.org\") < 0:\n",
    "            continue\n",
    "        for field in fields:\n",
    "            fieldtypes[field].add(get_type(row[field]))"
   ]
  },
  {
   "cell_type": "code",
   "execution_count": 32,
   "metadata": {},
   "outputs": [
    {
     "data": {
      "text/plain": [
       "{'areaCode': {int},\n",
       " 'areaLand': {int},\n",
       " 'areaMetro': {int},\n",
       " 'areaUrban': {int},\n",
       " 'elevation': {int},\n",
       " 'governmentType_label': {int},\n",
       " 'homepage': {int},\n",
       " 'isPartOf_label': {int},\n",
       " 'maximumElevation': {int},\n",
       " 'minimumElevation': {int},\n",
       " 'name': {int},\n",
       " 'populationDensity': {int},\n",
       " 'populationTotal': {int},\n",
       " 'timeZone_label': {int},\n",
       " 'utcOffset': {int},\n",
       " 'wgs84_pos#lat': {int},\n",
       " 'wgs84_pos#long': {int}}"
      ]
     },
     "execution_count": 32,
     "metadata": {},
     "output_type": "execute_result"
    }
   ],
   "source": [
    "fieldtypes"
   ]
  },
  {
   "cell_type": "code",
   "execution_count": null,
   "metadata": {
    "collapsed": true
   },
   "outputs": [],
   "source": [
    "for row in reader:\n",
    "    # validate URI value\n",
    "    if row['URI'].find(\"dbpedia.org\") < 0:\n",
    "        continue\n",
    "\n",
    "    ps_year = row['productionStartYear'][:4]\n",
    "    try: # use try/except to filter valid items\n",
    "        ps_year = int(ps_year)\n",
    "        row['productionStartYear'] = ps_year\n",
    "        if (ps_year >= 1886) and (ps_year <= 2014):\n",
    "            data_good.append(row)\n",
    "        else:\n",
    "            data_bad.append(row)\n",
    "    except ValueError: # non-numeric strings caught by exception\n",
    "        if ps_year == 'NULL':\n",
    "            data_bad.append(row)\n"
   ]
  }
 ],
 "metadata": {
  "kernelspec": {
   "display_name": "Python 3",
   "language": "python",
   "name": "python3"
  },
  "language_info": {
   "codemirror_mode": {
    "name": "ipython",
    "version": 3
   },
   "file_extension": ".py",
   "mimetype": "text/x-python",
   "name": "python",
   "nbconvert_exporter": "python",
   "pygments_lexer": "ipython3",
   "version": "3.6.1"
  }
 },
 "nbformat": 4,
 "nbformat_minor": 2
}
