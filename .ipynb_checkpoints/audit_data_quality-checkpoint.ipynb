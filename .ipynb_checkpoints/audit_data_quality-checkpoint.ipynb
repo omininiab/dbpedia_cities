{
 "cells": [
  {
   "cell_type": "code",
   "execution_count": 16,
   "metadata": {
    "collapsed": true
   },
   "outputs": [],
   "source": [
    "import csv"
   ]
  },
  {
   "cell_type": "code",
   "execution_count": 17,
   "metadata": {
    "collapsed": true
   },
   "outputs": [],
   "source": [
    "file = \"cities.csv\""
   ]
  },
  {
   "cell_type": "code",
   "execution_count": 18,
   "metadata": {
    "collapsed": true
   },
   "outputs": [],
   "source": [
    "fields = [\"name\", \"timeZone_label\", \"utcOffset\", \"homepage\", \"governmentType_label\",\n",
    "          \"isPartOf_label\", \"areaCode\", \"populationTotal\", \"elevation\",\n",
    "          \"maximumElevation\", \"minimumElevation\", \"populationDensity\",\n",
    "          \"wgs84_pos#lat\", \"wgs84_pos#long\", \"areaLand\", \"areaMetro\", \"areaUrban\"]"
   ]
  },
  {
   "cell_type": "code",
   "execution_count": 23,
   "metadata": {},
   "outputs": [],
   "source": [
    "def get_type(value):\n",
    "    fieldtype = type(str())\n",
    "    try: # use try/except to filter valid items\n",
    "        value = int(value)\n",
    "        fieldtype = type(int())\n",
    "    except ValueError: # non-numeric strings caught by exception\n",
    "        if value == 'NULL':\n",
    "            fieldtype = type(None)\n",
    "        elif value[0] == \"{}\":\n",
    "            fieldtype = type(list())\n",
    "        else:\n",
    "            fieldtype = type(float())\n",
    "    return fieldtype"
   ]
  },
  {
   "cell_type": "code",
   "execution_count": 24,
   "metadata": {},
   "outputs": [],
   "source": [
    "fieldtypes = {}\n",
    "for field in fields:\n",
    "    fieldtypes[field] = set([])\n",
    "with open(file, \"r\") as f:\n",
    "    reader = csv.DictReader(f)\n",
    "    header = reader.fieldnames\n",
    "    \n",
    "    for row in reader:\n",
    "        if row['URI'].find(\"dbpedia.org\") < 0:\n",
    "            continue\n",
    "        for field in fields:\n",
    "            fieldtypes[field].add(get_type(row[field]))"
   ]
  },
  {
   "cell_type": "code",
   "execution_count": 25,
   "metadata": {},
   "outputs": [
    {
     "data": {
      "text/plain": [
       "{'areaCode': {float, int, NoneType},\n",
       " 'areaLand': {float, NoneType},\n",
       " 'areaMetro': {float, NoneType},\n",
       " 'areaUrban': {float, NoneType},\n",
       " 'elevation': {float, NoneType},\n",
       " 'governmentType_label': {float, NoneType},\n",
       " 'homepage': {float, NoneType},\n",
       " 'isPartOf_label': {float, NoneType},\n",
       " 'maximumElevation': {float, NoneType},\n",
       " 'minimumElevation': {float, NoneType},\n",
       " 'name': {float, NoneType},\n",
       " 'populationDensity': {float, NoneType},\n",
       " 'populationTotal': {float, int, NoneType},\n",
       " 'timeZone_label': {float, NoneType},\n",
       " 'utcOffset': {float, int, NoneType},\n",
       " 'wgs84_pos#lat': {float, NoneType},\n",
       " 'wgs84_pos#long': {float, NoneType}}"
      ]
     },
     "execution_count": 25,
     "metadata": {},
     "output_type": "execute_result"
    }
   ],
   "source": [
    "fieldtypes"
   ]
  }
 ],
 "metadata": {
  "kernelspec": {
   "display_name": "Python 3",
   "language": "python",
   "name": "python3"
  },
  "language_info": {
   "codemirror_mode": {
    "name": "ipython",
    "version": 3
   },
   "file_extension": ".py",
   "mimetype": "text/x-python",
   "name": "python",
   "nbconvert_exporter": "python",
   "pygments_lexer": "ipython3",
   "version": "3.6.1"
  }
 },
 "nbformat": 4,
 "nbformat_minor": 2
}
