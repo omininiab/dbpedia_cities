{
 "cells": [
  {
   "cell_type": "code",
   "execution_count": 2,
   "metadata": {
    "collapsed": true
   },
   "outputs": [],
   "source": [
    "import csv"
   ]
  },
  {
   "cell_type": "code",
   "execution_count": 3,
   "metadata": {
    "collapsed": true
   },
   "outputs": [],
   "source": [
    "file = \"cities.csv\""
   ]
  },
  {
   "cell_type": "code",
   "execution_count": 4,
   "metadata": {
    "collapsed": true
   },
   "outputs": [],
   "source": [
    "fields = [\"name\", \"timeZone_label\", \"utcOffset\", \"homepage\", \"governmentType_label\",\n",
    "          \"isPartOf_label\", \"areaCode\", \"populationTotal\", \"elevation\",\n",
    "          \"maximumElevation\", \"minimumElevation\", \"populationDensity\",\n",
    "          \"wgs84_pos#lat\", \"wgs84_pos#long\", \"areaLand\", \"areaMetro\", \"areaUrban\"]"
   ]
  },
  {
   "cell_type": "code",
   "execution_count": 66,
   "metadata": {},
   "outputs": [],
   "source": [
    "def get_type(value):\n",
    "    \"\"\"\n",
    "    returns the datatype of the specified value and the value in the correct format.\n",
    "    \"\"\"\n",
    "    try: # use try/except to filter valid items\n",
    "        value = int(value)\n",
    "    except ValueError: # non-numeric integer strings caught by exception\n",
    "        try:# some non-integers might be floats, use try/except to catch those\n",
    "            value = float(value)\n",
    "        except ValueError:\n",
    "            if value == 'NULL':\n",
    "                value = None\n",
    "            elif value.find(\"{}\"):\n",
    "                return value, type([])\n",
    "\n",
    "    return [value, type(value)]"
   ]
  },
  {
   "cell_type": "code",
   "execution_count": null,
   "metadata": {
    "collapsed": true
   },
   "outputs": [],
   "source": [
    "def fix_area(area):\n",
    "    \"\"\"\n",
    "    This function receives a string as an input, and it returns a float representing the value of the area or None.\n",
    "    \"\"\"\n",
    "    area, area_type = get_type(area)\n",
    "    if area_type == type([]):\n",
    "        \n",
    "    \n",
    "\n",
    "    return area"
   ]
  },
  {
   "cell_type": "code",
   "execution_count": null,
   "metadata": {
    "collapsed": true
   },
   "outputs": [],
   "source": [
    "def fix_name(name):\n",
    "    \"\"\"\n",
    "    In this problem set you work with cities infobox data, audit it, come up with a\n",
    "    cleaning idea and then clean it up.\n",
    "\n",
    "    In the previous quiz you recognized that the \"name\" value can be an array (or\n",
    "    list in Python terms). It would make it easier to process and query the data\n",
    "    later if all values for the name are in a Python list, instead of being\n",
    "    just a string separated with special characters, like now.\n",
    "\n",
    "    Finish the function fix_name(). It will recieve a string as an input, and it\n",
    "    will return a list of all the names. If there is only one name, the list will\n",
    "    have only one item in it; if the name is \"NULL\", the list should be empty.\n",
    "    The rest of the code is just an example on how this function can be used.\n",
    "    \"\"\"\n",
    "\n",
    "    return name"
   ]
  },
  {
   "cell_type": "code",
   "execution_count": null,
   "metadata": {
    "collapsed": true
   },
   "outputs": [],
   "source": [
    "def check_loc(point, lat, longi):\n",
    "    \"\"\"\n",
    "    In this problem set you work with cities infobox data, audit it, come up with a\n",
    "    cleaning idea and then clean it up.\n",
    "\n",
    "    If you look at the full city data, you will notice that there are couple of\n",
    "    values that seem to provide the same information in different formats: \"point\"\n",
    "    seems to be the combination of \"wgs84_pos#lat\" and \"wgs84_pos#long\". However,\n",
    "    we do not know if that is the case and should check if they are equivalent.\n",
    "\n",
    "    Finish the function check_loc(). It will recieve 3 strings: first, the combined\n",
    "    value of \"point\" followed by the separate \"wgs84_pos#\" values. You have to\n",
    "    extract the lat and long values from the \"point\" argument and compare them to\n",
    "    the \"wgs84_pos# values, returning True or False.\n",
    "\n",
    "    Note that you do not have to fix the values, only determine if they are\n",
    "    consistent. To fix them in this case you would need more information. Feel free\n",
    "    to discuss possible strategies for fixing this on the discussion forum.\n",
    "\n",
    "    The rest of the code is just an example on how this function can be used.\n",
    "    Changes to \"process_file\" function will not be taken into account for grading.\n",
    "    \"\"\"\n",
    "    \n",
    "    pass"
   ]
  },
  {
   "cell_type": "code",
   "execution_count": 70,
   "metadata": {},
   "outputs": [],
   "source": [
    "def audit_file(file, fields):\n",
    "    fieldtypes = {}\n",
    "    for field in fields:\n",
    "        fieldtypes[field] = set([])\n",
    "    with open(file, \"r\") as f:\n",
    "        reader = csv.DictReader(f)\n",
    "        header = reader.fieldnames\n",
    "\n",
    "        for row in reader:\n",
    "            if row['URI'].find(\"dbpedia.org\") < 0:\n",
    "                continue\n",
    "            for field in fields:\n",
    "                fieldtypes[field].add(get_type(row[field])[1])\n",
    "\n",
    "    return fieldtypes"
   ]
  },
  {
   "cell_type": "code",
   "execution_count": 72,
   "metadata": {},
   "outputs": [],
   "source": [
    "def process_file(filename):\n",
    "    data = []\n",
    "\n",
    "    with open(filename, \"r\") as f:\n",
    "        reader = csv.DictReader(f)\n",
    "\n",
    "        #skipping the extra metadata\n",
    "        for i in range(3):\n",
    "            l = reader.next()\n",
    "\n",
    "        # processing file\n",
    "        for line in reader:\n",
    "            # calling your function to fix the area value\n",
    "            if \"areaLand\" in line:\n",
    "                line[\"areaLand\"] = fix_area(line[\"areaLand\"])\n",
    "            # calling your function to fix the name value\n",
    "            if \"name\" in line:\n",
    "                line[\"name\"] = fix_name(line[\"name\"])\n",
    "            # calling your function to check the location\n",
    "            result = check_loc(line[\"point\"], line[\"wgs84_pos#lat\"], line[\"wgs84_pos#long\"])\n",
    "            if not result:\n",
    "                print (\"{}: {} != {} {}\".format(line[\"name\"], line[\"point\"], line[\"wgs84_pos#lat\"], line[\"wgs84_pos#long\"]))\n",
    "            data.append(line)\n",
    "\n",
    "    return data"
   ]
  },
  {
   "cell_type": "code",
   "execution_count": null,
   "metadata": {
    "collapsed": true
   },
   "outputs": [],
   "source": []
  }
 ],
 "metadata": {
  "kernelspec": {
   "display_name": "Python 3",
   "language": "python",
   "name": "python3"
  },
  "language_info": {
   "codemirror_mode": {
    "name": "ipython",
    "version": 3
   },
   "file_extension": ".py",
   "mimetype": "text/x-python",
   "name": "python",
   "nbconvert_exporter": "python",
   "pygments_lexer": "ipython3",
   "version": "3.6.1"
  }
 },
 "nbformat": 4,
 "nbformat_minor": 2
}
